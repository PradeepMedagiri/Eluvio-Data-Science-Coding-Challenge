{
 "cells": [
  {
   "cell_type": "code",
   "execution_count": 1,
   "metadata": {},
   "outputs": [],
   "source": [
    "import pandas as pd\n",
    "import numpy as np\n",
    "import seaborn as sns\n",
    "import matplotlib.pyplot as plt\n",
    "from sklearn.manifold import TSNE\n",
    "import texthero as hero"
   ]
  },
  {
   "cell_type": "code",
   "execution_count": 2,
   "metadata": {},
   "outputs": [],
   "source": [
    "from tensorflow.keras.layers.experimental.preprocessing import TextVectorization\n",
    "from nltk.sentiment.vader import SentimentIntensityAnalyzer"
   ]
  },
  {
   "cell_type": "code",
   "execution_count": 3,
   "metadata": {},
   "outputs": [],
   "source": [
    "import warnings\n",
    "warnings.filterwarnings('ignore')"
   ]
  },
  {
   "cell_type": "code",
   "execution_count": 4,
   "metadata": {},
   "outputs": [],
   "source": [
    "df=pd.read_csv('Eluvio_DS_Challenge.csv')"
   ]
  },
  {
   "cell_type": "code",
   "execution_count": 5,
   "metadata": {
    "scrolled": true
   },
   "outputs": [
    {
     "data": {
      "text/html": [
       "<div>\n",
       "<style scoped>\n",
       "    .dataframe tbody tr th:only-of-type {\n",
       "        vertical-align: middle;\n",
       "    }\n",
       "\n",
       "    .dataframe tbody tr th {\n",
       "        vertical-align: top;\n",
       "    }\n",
       "\n",
       "    .dataframe thead th {\n",
       "        text-align: right;\n",
       "    }\n",
       "</style>\n",
       "<table border=\"1\" class=\"dataframe\">\n",
       "  <thead>\n",
       "    <tr style=\"text-align: right;\">\n",
       "      <th></th>\n",
       "      <th>time_created</th>\n",
       "      <th>date_created</th>\n",
       "      <th>up_votes</th>\n",
       "      <th>down_votes</th>\n",
       "      <th>title</th>\n",
       "      <th>over_18</th>\n",
       "      <th>author</th>\n",
       "      <th>category</th>\n",
       "    </tr>\n",
       "  </thead>\n",
       "  <tbody>\n",
       "    <tr>\n",
       "      <th>0</th>\n",
       "      <td>1201232046</td>\n",
       "      <td>2008-01-25</td>\n",
       "      <td>3</td>\n",
       "      <td>0</td>\n",
       "      <td>Scores killed in Pakistan clashes</td>\n",
       "      <td>False</td>\n",
       "      <td>polar</td>\n",
       "      <td>worldnews</td>\n",
       "    </tr>\n",
       "    <tr>\n",
       "      <th>1</th>\n",
       "      <td>1201232075</td>\n",
       "      <td>2008-01-25</td>\n",
       "      <td>2</td>\n",
       "      <td>0</td>\n",
       "      <td>Japan resumes refuelling mission</td>\n",
       "      <td>False</td>\n",
       "      <td>polar</td>\n",
       "      <td>worldnews</td>\n",
       "    </tr>\n",
       "    <tr>\n",
       "      <th>2</th>\n",
       "      <td>1201232523</td>\n",
       "      <td>2008-01-25</td>\n",
       "      <td>3</td>\n",
       "      <td>0</td>\n",
       "      <td>US presses Egypt on Gaza border</td>\n",
       "      <td>False</td>\n",
       "      <td>polar</td>\n",
       "      <td>worldnews</td>\n",
       "    </tr>\n",
       "    <tr>\n",
       "      <th>3</th>\n",
       "      <td>1201233290</td>\n",
       "      <td>2008-01-25</td>\n",
       "      <td>1</td>\n",
       "      <td>0</td>\n",
       "      <td>Jump-start economy: Give health care to all</td>\n",
       "      <td>False</td>\n",
       "      <td>fadi420</td>\n",
       "      <td>worldnews</td>\n",
       "    </tr>\n",
       "    <tr>\n",
       "      <th>4</th>\n",
       "      <td>1201274720</td>\n",
       "      <td>2008-01-25</td>\n",
       "      <td>4</td>\n",
       "      <td>0</td>\n",
       "      <td>Council of Europe bashes EU&amp;UN terror blacklist</td>\n",
       "      <td>False</td>\n",
       "      <td>mhermans</td>\n",
       "      <td>worldnews</td>\n",
       "    </tr>\n",
       "    <tr>\n",
       "      <th>5</th>\n",
       "      <td>1201287889</td>\n",
       "      <td>2008-01-25</td>\n",
       "      <td>15</td>\n",
       "      <td>0</td>\n",
       "      <td>Hay presto! Farmer unveils the  illegal  mock-...</td>\n",
       "      <td>False</td>\n",
       "      <td>Armagedonovich</td>\n",
       "      <td>worldnews</td>\n",
       "    </tr>\n",
       "    <tr>\n",
       "      <th>6</th>\n",
       "      <td>1201289438</td>\n",
       "      <td>2008-01-25</td>\n",
       "      <td>5</td>\n",
       "      <td>0</td>\n",
       "      <td>Strikes, Protests and Gridlock at the Poland-U...</td>\n",
       "      <td>False</td>\n",
       "      <td>Clythos</td>\n",
       "      <td>worldnews</td>\n",
       "    </tr>\n",
       "    <tr>\n",
       "      <th>7</th>\n",
       "      <td>1201536662</td>\n",
       "      <td>2008-01-28</td>\n",
       "      <td>0</td>\n",
       "      <td>0</td>\n",
       "      <td>The U.N. Mismanagement Program</td>\n",
       "      <td>False</td>\n",
       "      <td>Moldavite</td>\n",
       "      <td>worldnews</td>\n",
       "    </tr>\n",
       "    <tr>\n",
       "      <th>8</th>\n",
       "      <td>1201558396</td>\n",
       "      <td>2008-01-28</td>\n",
       "      <td>4</td>\n",
       "      <td>0</td>\n",
       "      <td>Nicolas Sarkozy threatens to sue Ryanair</td>\n",
       "      <td>False</td>\n",
       "      <td>Moldavite</td>\n",
       "      <td>worldnews</td>\n",
       "    </tr>\n",
       "    <tr>\n",
       "      <th>9</th>\n",
       "      <td>1201635869</td>\n",
       "      <td>2008-01-29</td>\n",
       "      <td>3</td>\n",
       "      <td>0</td>\n",
       "      <td>US plans for missile shields in Polish town me...</td>\n",
       "      <td>False</td>\n",
       "      <td>JoeyRamone63</td>\n",
       "      <td>worldnews</td>\n",
       "    </tr>\n",
       "  </tbody>\n",
       "</table>\n",
       "</div>"
      ],
      "text/plain": [
       "   time_created date_created  up_votes  down_votes  \\\n",
       "0    1201232046   2008-01-25         3           0   \n",
       "1    1201232075   2008-01-25         2           0   \n",
       "2    1201232523   2008-01-25         3           0   \n",
       "3    1201233290   2008-01-25         1           0   \n",
       "4    1201274720   2008-01-25         4           0   \n",
       "5    1201287889   2008-01-25        15           0   \n",
       "6    1201289438   2008-01-25         5           0   \n",
       "7    1201536662   2008-01-28         0           0   \n",
       "8    1201558396   2008-01-28         4           0   \n",
       "9    1201635869   2008-01-29         3           0   \n",
       "\n",
       "                                               title  over_18          author  \\\n",
       "0                  Scores killed in Pakistan clashes    False           polar   \n",
       "1                   Japan resumes refuelling mission    False           polar   \n",
       "2                    US presses Egypt on Gaza border    False           polar   \n",
       "3       Jump-start economy: Give health care to all     False         fadi420   \n",
       "4    Council of Europe bashes EU&UN terror blacklist    False        mhermans   \n",
       "5  Hay presto! Farmer unveils the  illegal  mock-...    False  Armagedonovich   \n",
       "6  Strikes, Protests and Gridlock at the Poland-U...    False         Clythos   \n",
       "7                     The U.N. Mismanagement Program    False       Moldavite   \n",
       "8          Nicolas Sarkozy threatens to sue Ryanair     False       Moldavite   \n",
       "9  US plans for missile shields in Polish town me...    False    JoeyRamone63   \n",
       "\n",
       "    category  \n",
       "0  worldnews  \n",
       "1  worldnews  \n",
       "2  worldnews  \n",
       "3  worldnews  \n",
       "4  worldnews  \n",
       "5  worldnews  \n",
       "6  worldnews  \n",
       "7  worldnews  \n",
       "8  worldnews  \n",
       "9  worldnews  "
      ]
     },
     "execution_count": 5,
     "metadata": {},
     "output_type": "execute_result"
    }
   ],
   "source": [
    "df.head(10)"
   ]
  },
  {
   "cell_type": "code",
   "execution_count": 6,
   "metadata": {},
   "outputs": [],
   "source": [
    "#description of variables stored below for easy access.\n",
    "#df is main data frame\n",
    "#dff_topyear (top up votes each year)\n",
    "#top_15_upvotes (top 15 upvotes over all)\n",
    "#top_20_over18 (top 20 upvotes in over_18)\n",
    "#df_processed is dataframe after preprocessed"
   ]
  },
  {
   "cell_type": "markdown",
   "metadata": {},
   "source": [
    "# Details & Assumptions:\n",
    "- Dataset: 8 years of data from 2008 to 2016\n",
    "- up_votes and down_votes are votes from auidence (considered as targets attending events)\n",
    "- Authors hosting event with respective titles (partially be considered as targets and recommendations can be provided to authors to host based on previous events response)\n",
    "- Exploratory data analysis\n",
    "- Data modeling (by clustering based on up_votes and considering over_18)\n",
    "- Sentiment analysis on title\n",
    "\n",
    "Note: Above mentioned are basic details, more will be added on drilling down to bottom"
   ]
  },
  {
   "cell_type": "code",
   "execution_count": 7,
   "metadata": {},
   "outputs": [
    {
     "data": {
      "text/plain": [
       "(509236, 8)"
      ]
     },
     "execution_count": 7,
     "metadata": {},
     "output_type": "execute_result"
    }
   ],
   "source": [
    "df.shape"
   ]
  },
  {
   "cell_type": "code",
   "execution_count": 8,
   "metadata": {},
   "outputs": [
    {
     "data": {
      "text/plain": [
       "time_created     int64\n",
       "date_created    object\n",
       "up_votes         int64\n",
       "down_votes       int64\n",
       "title           object\n",
       "over_18           bool\n",
       "author          object\n",
       "category        object\n",
       "dtype: object"
      ]
     },
     "execution_count": 8,
     "metadata": {},
     "output_type": "execute_result"
    }
   ],
   "source": [
    "df.dtypes"
   ]
  },
  {
   "cell_type": "code",
   "execution_count": 9,
   "metadata": {},
   "outputs": [
    {
     "data": {
      "text/plain": [
       "time_created    0\n",
       "date_created    0\n",
       "up_votes        0\n",
       "down_votes      0\n",
       "title           0\n",
       "over_18         0\n",
       "author          0\n",
       "category        0\n",
       "dtype: int64"
      ]
     },
     "execution_count": 9,
     "metadata": {},
     "output_type": "execute_result"
    }
   ],
   "source": [
    "#first lets check for Null values in dataset given\n",
    "df.isnull().sum()\n",
    "#no null vals"
   ]
  },
  {
   "cell_type": "code",
   "execution_count": 10,
   "metadata": {},
   "outputs": [
    {
     "data": {
      "text/plain": [
       "time_created    508329\n",
       "date_created      3223\n",
       "up_votes          5782\n",
       "down_votes           1\n",
       "title           500720\n",
       "over_18              2\n",
       "author           85838\n",
       "category             1\n",
       "dtype: int64"
      ]
     },
     "execution_count": 10,
     "metadata": {},
     "output_type": "execute_result"
    }
   ],
   "source": [
    "df.apply(lambda x : len(x.unique()))"
   ]
  },
  {
   "cell_type": "code",
   "execution_count": 11,
   "metadata": {},
   "outputs": [],
   "source": [
    "#1 convert time_created col to below format\n",
    "df['time_created'] = pd.to_datetime(df['time_created'], unit='s')"
   ]
  },
  {
   "cell_type": "code",
   "execution_count": 12,
   "metadata": {},
   "outputs": [],
   "source": [
    "df['date_created'] = pd.to_datetime(df['date_created'])"
   ]
  },
  {
   "cell_type": "code",
   "execution_count": 13,
   "metadata": {},
   "outputs": [
    {
     "data": {
      "text/plain": [
       "time_created    datetime64[ns]\n",
       "date_created    datetime64[ns]\n",
       "up_votes                 int64\n",
       "down_votes               int64\n",
       "title                   object\n",
       "over_18                   bool\n",
       "author                  object\n",
       "category                object\n",
       "dtype: object"
      ]
     },
     "execution_count": 13,
     "metadata": {},
     "output_type": "execute_result"
    }
   ],
   "source": [
    "df.dtypes"
   ]
  },
  {
   "cell_type": "code",
   "execution_count": 14,
   "metadata": {},
   "outputs": [
    {
     "data": {
      "text/plain": [
       "0    509236\n",
       "Name: down_votes, dtype: int64"
      ]
     },
     "execution_count": 14,
     "metadata": {},
     "output_type": "execute_result"
    }
   ],
   "source": [
    "#down_votes col has no other vals than zero's, remove\n",
    "df['down_votes'].value_counts()"
   ]
  },
  {
   "cell_type": "code",
   "execution_count": 15,
   "metadata": {},
   "outputs": [
    {
     "data": {
      "text/plain": [
       "worldnews    509236\n",
       "Name: category, dtype: int64"
      ]
     },
     "execution_count": 15,
     "metadata": {},
     "output_type": "execute_result"
    }
   ],
   "source": [
    "#category col has no other strings than worldnews, remove\n",
    "df['category'].value_counts()"
   ]
  },
  {
   "cell_type": "code",
   "execution_count": 16,
   "metadata": {},
   "outputs": [],
   "source": [
    "df=df.drop(columns=['down_votes','category'])"
   ]
  },
  {
   "cell_type": "code",
   "execution_count": 17,
   "metadata": {},
   "outputs": [],
   "source": [
    "df=df.set_index('time_created')"
   ]
  },
  {
   "cell_type": "code",
   "execution_count": 18,
   "metadata": {},
   "outputs": [],
   "source": [
    "df['hour']=df.index.hour\n",
    "df['day_of_week']=df.index.dayofweek\n",
    "df['day_of_month']=df.index.day\n",
    "df['month']=df.index.month"
   ]
  },
  {
   "cell_type": "code",
   "execution_count": 19,
   "metadata": {},
   "outputs": [],
   "source": [
    "df=df.set_index('date_created')"
   ]
  },
  {
   "cell_type": "code",
   "execution_count": 20,
   "metadata": {},
   "outputs": [],
   "source": [
    "#Saving file to explore in tableau\n",
    "#df.to_csv('explore_tableau.csv')"
   ]
  },
  {
   "cell_type": "markdown",
   "metadata": {},
   "source": [
    "# Exploratory Data Analysis"
   ]
  },
  {
   "cell_type": "code",
   "execution_count": 21,
   "metadata": {},
   "outputs": [
    {
     "data": {
      "text/plain": [
       "up_votes          5782\n",
       "title           500720\n",
       "over_18              2\n",
       "author           85838\n",
       "hour                24\n",
       "day_of_week          7\n",
       "day_of_month        31\n",
       "month               12\n",
       "dtype: int64"
      ]
     },
     "execution_count": 21,
     "metadata": {},
     "output_type": "execute_result"
    }
   ],
   "source": [
    "df.apply(lambda x : len(x.unique()))"
   ]
  },
  {
   "cell_type": "code",
   "execution_count": 22,
   "metadata": {
    "scrolled": true
   },
   "outputs": [
    {
     "data": {
      "text/html": [
       "<div>\n",
       "<style scoped>\n",
       "    .dataframe tbody tr th:only-of-type {\n",
       "        vertical-align: middle;\n",
       "    }\n",
       "\n",
       "    .dataframe tbody tr th {\n",
       "        vertical-align: top;\n",
       "    }\n",
       "\n",
       "    .dataframe thead th {\n",
       "        text-align: right;\n",
       "    }\n",
       "</style>\n",
       "<table border=\"1\" class=\"dataframe\">\n",
       "  <thead>\n",
       "    <tr style=\"text-align: right;\">\n",
       "      <th></th>\n",
       "      <th>up_votes</th>\n",
       "      <th>hour</th>\n",
       "      <th>day_of_week</th>\n",
       "      <th>day_of_month</th>\n",
       "      <th>month</th>\n",
       "    </tr>\n",
       "  </thead>\n",
       "  <tbody>\n",
       "    <tr>\n",
       "      <th>count</th>\n",
       "      <td>509236.000000</td>\n",
       "      <td>509236.000000</td>\n",
       "      <td>509236.000000</td>\n",
       "      <td>509236.000000</td>\n",
       "      <td>509236.000000</td>\n",
       "    </tr>\n",
       "    <tr>\n",
       "      <th>mean</th>\n",
       "      <td>112.236283</td>\n",
       "      <td>13.106742</td>\n",
       "      <td>2.716483</td>\n",
       "      <td>15.748618</td>\n",
       "      <td>6.457293</td>\n",
       "    </tr>\n",
       "    <tr>\n",
       "      <th>std</th>\n",
       "      <td>541.694675</td>\n",
       "      <td>6.123779</td>\n",
       "      <td>1.917320</td>\n",
       "      <td>8.762333</td>\n",
       "      <td>3.395653</td>\n",
       "    </tr>\n",
       "    <tr>\n",
       "      <th>min</th>\n",
       "      <td>0.000000</td>\n",
       "      <td>0.000000</td>\n",
       "      <td>0.000000</td>\n",
       "      <td>1.000000</td>\n",
       "      <td>1.000000</td>\n",
       "    </tr>\n",
       "    <tr>\n",
       "      <th>25%</th>\n",
       "      <td>1.000000</td>\n",
       "      <td>9.000000</td>\n",
       "      <td>1.000000</td>\n",
       "      <td>8.000000</td>\n",
       "      <td>3.000000</td>\n",
       "    </tr>\n",
       "    <tr>\n",
       "      <th>50%</th>\n",
       "      <td>5.000000</td>\n",
       "      <td>14.000000</td>\n",
       "      <td>3.000000</td>\n",
       "      <td>16.000000</td>\n",
       "      <td>6.000000</td>\n",
       "    </tr>\n",
       "    <tr>\n",
       "      <th>75%</th>\n",
       "      <td>16.000000</td>\n",
       "      <td>18.000000</td>\n",
       "      <td>4.000000</td>\n",
       "      <td>23.000000</td>\n",
       "      <td>9.000000</td>\n",
       "    </tr>\n",
       "    <tr>\n",
       "      <th>max</th>\n",
       "      <td>21253.000000</td>\n",
       "      <td>23.000000</td>\n",
       "      <td>6.000000</td>\n",
       "      <td>31.000000</td>\n",
       "      <td>12.000000</td>\n",
       "    </tr>\n",
       "  </tbody>\n",
       "</table>\n",
       "</div>"
      ],
      "text/plain": [
       "            up_votes           hour    day_of_week   day_of_month  \\\n",
       "count  509236.000000  509236.000000  509236.000000  509236.000000   \n",
       "mean      112.236283      13.106742       2.716483      15.748618   \n",
       "std       541.694675       6.123779       1.917320       8.762333   \n",
       "min         0.000000       0.000000       0.000000       1.000000   \n",
       "25%         1.000000       9.000000       1.000000       8.000000   \n",
       "50%         5.000000      14.000000       3.000000      16.000000   \n",
       "75%        16.000000      18.000000       4.000000      23.000000   \n",
       "max     21253.000000      23.000000       6.000000      31.000000   \n",
       "\n",
       "               month  \n",
       "count  509236.000000  \n",
       "mean        6.457293  \n",
       "std         3.395653  \n",
       "min         1.000000  \n",
       "25%         3.000000  \n",
       "50%         6.000000  \n",
       "75%         9.000000  \n",
       "max        12.000000  "
      ]
     },
     "execution_count": 22,
     "metadata": {},
     "output_type": "execute_result"
    }
   ],
   "source": [
    "df.describe()"
   ]
  },
  {
   "cell_type": "markdown",
   "metadata": {},
   "source": [
    "## Top up_votes in span of 9 years\n",
    "- Title is on the image below, it is one of the highest up voted with 21253 votes.\n",
    "- There are no other events having more than 14000 up votes other than the item below.\n",
    "- Assuming minimum number of auidence is 21253.\n",
    "- Image source: created on Tableau Public on local machine\n",
    "\n",
    "\n",
    "<div>\n",
    "<img src=\"Image.png\" width=\"600\"/>\n",
    "</div>\n"
   ]
  },
  {
   "cell_type": "code",
   "execution_count": 23,
   "metadata": {},
   "outputs": [],
   "source": [
    "# now lets get highest voted event in each year (count #9 but in 2016 2 are highest)\n",
    "# values in x from tableau on local machine and z ranges from year 2008 to 2016 \n",
    "x=[1799,3392,3187,4142,7457,10159,9303,21253,13244]\n",
    "y=[]\n",
    "yy=[]\n",
    "for i in x:\n",
    "    rows=df.loc[df['up_votes'] == i]\n",
    "    y.append(rows)\n",
    "    df_topyear = pd.concat(y)\n",
    "    z=[2008,2009,2010,2011,2012,2013,2014,2015,2016]\n",
    "    for j in z:\n",
    "        rows_match=df_topyear.loc[df_topyear.index.year == j]\n",
    "        yy.append(rows_match)\n",
    "        dff_topyear = pd.concat(yy)\n",
    "dff_topyear=dff_topyear.drop_duplicates()\n",
    "dff_topyear['up_votes']=dff_topyear['up_votes'].drop_duplicates()"
   ]
  },
  {
   "cell_type": "code",
   "execution_count": 24,
   "metadata": {},
   "outputs": [],
   "source": [
    "dff_topyear=dff_topyear.dropna()"
   ]
  },
  {
   "cell_type": "code",
   "execution_count": 25,
   "metadata": {},
   "outputs": [
    {
     "data": {
      "text/html": [
       "<div>\n",
       "<style scoped>\n",
       "    .dataframe tbody tr th:only-of-type {\n",
       "        vertical-align: middle;\n",
       "    }\n",
       "\n",
       "    .dataframe tbody tr th {\n",
       "        vertical-align: top;\n",
       "    }\n",
       "\n",
       "    .dataframe thead th {\n",
       "        text-align: right;\n",
       "    }\n",
       "</style>\n",
       "<table border=\"1\" class=\"dataframe\">\n",
       "  <thead>\n",
       "    <tr style=\"text-align: right;\">\n",
       "      <th></th>\n",
       "      <th>up_votes</th>\n",
       "      <th>title</th>\n",
       "      <th>over_18</th>\n",
       "      <th>author</th>\n",
       "      <th>hour</th>\n",
       "      <th>day_of_week</th>\n",
       "      <th>day_of_month</th>\n",
       "      <th>month</th>\n",
       "    </tr>\n",
       "    <tr>\n",
       "      <th>date_created</th>\n",
       "      <th></th>\n",
       "      <th></th>\n",
       "      <th></th>\n",
       "      <th></th>\n",
       "      <th></th>\n",
       "      <th></th>\n",
       "      <th></th>\n",
       "      <th></th>\n",
       "    </tr>\n",
       "  </thead>\n",
       "  <tbody>\n",
       "    <tr>\n",
       "      <th>2008-10-17</th>\n",
       "      <td>1799.0</td>\n",
       "      <td>The Other Man On The Podium</td>\n",
       "      <td>False</td>\n",
       "      <td>ubikwitous</td>\n",
       "      <td>12</td>\n",
       "      <td>4</td>\n",
       "      <td>17</td>\n",
       "      <td>10</td>\n",
       "    </tr>\n",
       "    <tr>\n",
       "      <th>2009-12-22</th>\n",
       "      <td>3392.0</td>\n",
       "      <td>How do I know China wrecked the Copenhagen dea...</td>\n",
       "      <td>False</td>\n",
       "      <td>carsonbiz</td>\n",
       "      <td>22</td>\n",
       "      <td>1</td>\n",
       "      <td>22</td>\n",
       "      <td>12</td>\n",
       "    </tr>\n",
       "    <tr>\n",
       "      <th>2016-04-03</th>\n",
       "      <td>13244.0</td>\n",
       "      <td>New report claims  war on drugs  has  harmed p...</td>\n",
       "      <td>False</td>\n",
       "      <td>Owen_Daniel</td>\n",
       "      <td>22</td>\n",
       "      <td>6</td>\n",
       "      <td>3</td>\n",
       "      <td>4</td>\n",
       "    </tr>\n",
       "    <tr>\n",
       "      <th>2010-01-12</th>\n",
       "      <td>3187.0</td>\n",
       "      <td>Dear World, The Chinese government stole intel...</td>\n",
       "      <td>False</td>\n",
       "      <td>frenchphrasebook</td>\n",
       "      <td>23</td>\n",
       "      <td>1</td>\n",
       "      <td>12</td>\n",
       "      <td>1</td>\n",
       "    </tr>\n",
       "    <tr>\n",
       "      <th>2011-12-19</th>\n",
       "      <td>4142.0</td>\n",
       "      <td>North Korea Leader Kim-Jong Il has died</td>\n",
       "      <td>False</td>\n",
       "      <td>Merytz</td>\n",
       "      <td>3</td>\n",
       "      <td>0</td>\n",
       "      <td>19</td>\n",
       "      <td>12</td>\n",
       "    </tr>\n",
       "    <tr>\n",
       "      <th>2012-11-28</th>\n",
       "      <td>7457.0</td>\n",
       "      <td>Canada creates $5,000 cap on liability for fil...</td>\n",
       "      <td>False</td>\n",
       "      <td>mepper</td>\n",
       "      <td>17</td>\n",
       "      <td>2</td>\n",
       "      <td>28</td>\n",
       "      <td>11</td>\n",
       "    </tr>\n",
       "    <tr>\n",
       "      <th>2013-06-08</th>\n",
       "      <td>10159.0</td>\n",
       "      <td>What we have... is... concrete proof of U.S.-...</td>\n",
       "      <td>False</td>\n",
       "      <td>dantesinfer</td>\n",
       "      <td>1</td>\n",
       "      <td>5</td>\n",
       "      <td>8</td>\n",
       "      <td>6</td>\n",
       "    </tr>\n",
       "    <tr>\n",
       "      <th>2014-12-03</th>\n",
       "      <td>9303.0</td>\n",
       "      <td>NASA officially announces Manned Mars Mission,...</td>\n",
       "      <td>False</td>\n",
       "      <td>Herman999999999</td>\n",
       "      <td>22</td>\n",
       "      <td>2</td>\n",
       "      <td>3</td>\n",
       "      <td>12</td>\n",
       "    </tr>\n",
       "    <tr>\n",
       "      <th>2015-06-20</th>\n",
       "      <td>21253.0</td>\n",
       "      <td>A biotech startup has managed to 3-D print fak...</td>\n",
       "      <td>False</td>\n",
       "      <td>KRISHNA53</td>\n",
       "      <td>16</td>\n",
       "      <td>5</td>\n",
       "      <td>20</td>\n",
       "      <td>6</td>\n",
       "    </tr>\n",
       "    <tr>\n",
       "      <th>2016-04-03</th>\n",
       "      <td>13244.0</td>\n",
       "      <td>2.6 terabyte leak of Panamanian shell company ...</td>\n",
       "      <td>False</td>\n",
       "      <td>mister_geaux</td>\n",
       "      <td>18</td>\n",
       "      <td>6</td>\n",
       "      <td>3</td>\n",
       "      <td>4</td>\n",
       "    </tr>\n",
       "  </tbody>\n",
       "</table>\n",
       "</div>"
      ],
      "text/plain": [
       "              up_votes                                              title  \\\n",
       "date_created                                                                \n",
       "2008-10-17      1799.0                        The Other Man On The Podium   \n",
       "2009-12-22      3392.0  How do I know China wrecked the Copenhagen dea...   \n",
       "2016-04-03     13244.0  New report claims  war on drugs  has  harmed p...   \n",
       "2010-01-12      3187.0  Dear World, The Chinese government stole intel...   \n",
       "2011-12-19      4142.0            North Korea Leader Kim-Jong Il has died   \n",
       "2012-11-28      7457.0  Canada creates $5,000 cap on liability for fil...   \n",
       "2013-06-08     10159.0   What we have... is... concrete proof of U.S.-...   \n",
       "2014-12-03      9303.0  NASA officially announces Manned Mars Mission,...   \n",
       "2015-06-20     21253.0  A biotech startup has managed to 3-D print fak...   \n",
       "2016-04-03     13244.0  2.6 terabyte leak of Panamanian shell company ...   \n",
       "\n",
       "              over_18            author  hour  day_of_week  day_of_month  \\\n",
       "date_created                                                               \n",
       "2008-10-17      False        ubikwitous    12            4            17   \n",
       "2009-12-22      False         carsonbiz    22            1            22   \n",
       "2016-04-03      False       Owen_Daniel    22            6             3   \n",
       "2010-01-12      False  frenchphrasebook    23            1            12   \n",
       "2011-12-19      False            Merytz     3            0            19   \n",
       "2012-11-28      False            mepper    17            2            28   \n",
       "2013-06-08      False       dantesinfer     1            5             8   \n",
       "2014-12-03      False   Herman999999999    22            2             3   \n",
       "2015-06-20      False         KRISHNA53    16            5            20   \n",
       "2016-04-03      False      mister_geaux    18            6             3   \n",
       "\n",
       "              month  \n",
       "date_created         \n",
       "2008-10-17       10  \n",
       "2009-12-22       12  \n",
       "2016-04-03        4  \n",
       "2010-01-12        1  \n",
       "2011-12-19       12  \n",
       "2012-11-28       11  \n",
       "2013-06-08        6  \n",
       "2014-12-03       12  \n",
       "2015-06-20        6  \n",
       "2016-04-03        4  "
      ]
     },
     "execution_count": 25,
     "metadata": {},
     "output_type": "execute_result"
    }
   ],
   "source": [
    "dff_topyear"
   ]
  },
  {
   "cell_type": "code",
   "execution_count": 26,
   "metadata": {},
   "outputs": [
    {
     "data": {
      "text/plain": [
       "(509236, 8)"
      ]
     },
     "execution_count": 26,
     "metadata": {},
     "output_type": "execute_result"
    }
   ],
   "source": [
    "df.shape"
   ]
  },
  {
   "cell_type": "code",
   "execution_count": 27,
   "metadata": {},
   "outputs": [
    {
     "data": {
      "text/html": [
       "<div>\n",
       "<style scoped>\n",
       "    .dataframe tbody tr th:only-of-type {\n",
       "        vertical-align: middle;\n",
       "    }\n",
       "\n",
       "    .dataframe tbody tr th {\n",
       "        vertical-align: top;\n",
       "    }\n",
       "\n",
       "    .dataframe thead th {\n",
       "        text-align: right;\n",
       "    }\n",
       "</style>\n",
       "<table border=\"1\" class=\"dataframe\">\n",
       "  <thead>\n",
       "    <tr style=\"text-align: right;\">\n",
       "      <th></th>\n",
       "      <th>up_votes</th>\n",
       "      <th>title</th>\n",
       "      <th>over_18</th>\n",
       "      <th>author</th>\n",
       "      <th>hour</th>\n",
       "      <th>day_of_week</th>\n",
       "      <th>day_of_month</th>\n",
       "      <th>month</th>\n",
       "    </tr>\n",
       "    <tr>\n",
       "      <th>date_created</th>\n",
       "      <th></th>\n",
       "      <th></th>\n",
       "      <th></th>\n",
       "      <th></th>\n",
       "      <th></th>\n",
       "      <th></th>\n",
       "      <th></th>\n",
       "      <th></th>\n",
       "    </tr>\n",
       "  </thead>\n",
       "  <tbody>\n",
       "    <tr>\n",
       "      <th>2013-06-08</th>\n",
       "      <td>10159</td>\n",
       "      <td>What we have... is... concrete proof of U.S.-...</td>\n",
       "      <td>False</td>\n",
       "      <td>dantesinfer</td>\n",
       "      <td>1</td>\n",
       "      <td>5</td>\n",
       "      <td>8</td>\n",
       "      <td>6</td>\n",
       "    </tr>\n",
       "    <tr>\n",
       "      <th>2015-06-20</th>\n",
       "      <td>21253</td>\n",
       "      <td>A biotech startup has managed to 3-D print fak...</td>\n",
       "      <td>False</td>\n",
       "      <td>KRISHNA53</td>\n",
       "      <td>16</td>\n",
       "      <td>5</td>\n",
       "      <td>20</td>\n",
       "      <td>6</td>\n",
       "    </tr>\n",
       "    <tr>\n",
       "      <th>2015-08-07</th>\n",
       "      <td>10377</td>\n",
       "      <td>Brazilian radio host famous for exposing corru...</td>\n",
       "      <td>False</td>\n",
       "      <td>fiffers</td>\n",
       "      <td>15</td>\n",
       "      <td>4</td>\n",
       "      <td>7</td>\n",
       "      <td>8</td>\n",
       "    </tr>\n",
       "  </tbody>\n",
       "</table>\n",
       "</div>"
      ],
      "text/plain": [
       "              up_votes                                              title  \\\n",
       "date_created                                                                \n",
       "2013-06-08       10159   What we have... is... concrete proof of U.S.-...   \n",
       "2015-06-20       21253  A biotech startup has managed to 3-D print fak...   \n",
       "2015-08-07       10377  Brazilian radio host famous for exposing corru...   \n",
       "\n",
       "              over_18       author  hour  day_of_week  day_of_month  month  \n",
       "date_created                                                                \n",
       "2013-06-08      False  dantesinfer     1            5             8      6  \n",
       "2015-06-20      False    KRISHNA53    16            5            20      6  \n",
       "2015-08-07      False      fiffers    15            4             7      8  "
      ]
     },
     "execution_count": 27,
     "metadata": {},
     "output_type": "execute_result"
    }
   ],
   "source": [
    "top_15_upvotes=df.loc[df['up_votes'] >= 10000] #remove .head and run to view all records\n",
    "top_15_upvotes.head(3)"
   ]
  },
  {
   "cell_type": "markdown",
   "metadata": {},
   "source": [
    "- based on up_votes above are top 15 events and finding the sentiments of above titles may give good insights, will try this in Next parts"
   ]
  },
  {
   "cell_type": "code",
   "execution_count": 28,
   "metadata": {},
   "outputs": [
    {
     "data": {
      "text/plain": [
       "False    508916\n",
       "True        320\n",
       "Name: over_18, dtype: int64"
      ]
     },
     "execution_count": 28,
     "metadata": {},
     "output_type": "execute_result"
    }
   ],
   "source": [
    "df['over_18'].value_counts()"
   ]
  },
  {
   "cell_type": "code",
   "execution_count": 29,
   "metadata": {},
   "outputs": [
    {
     "data": {
      "text/html": [
       "<div>\n",
       "<style scoped>\n",
       "    .dataframe tbody tr th:only-of-type {\n",
       "        vertical-align: middle;\n",
       "    }\n",
       "\n",
       "    .dataframe tbody tr th {\n",
       "        vertical-align: top;\n",
       "    }\n",
       "\n",
       "    .dataframe thead th {\n",
       "        text-align: right;\n",
       "    }\n",
       "</style>\n",
       "<table border=\"1\" class=\"dataframe\">\n",
       "  <thead>\n",
       "    <tr style=\"text-align: right;\">\n",
       "      <th></th>\n",
       "      <th>up_votes</th>\n",
       "      <th>title</th>\n",
       "      <th>over_18</th>\n",
       "      <th>author</th>\n",
       "      <th>hour</th>\n",
       "      <th>day_of_week</th>\n",
       "      <th>day_of_month</th>\n",
       "      <th>month</th>\n",
       "    </tr>\n",
       "    <tr>\n",
       "      <th>date_created</th>\n",
       "      <th></th>\n",
       "      <th></th>\n",
       "      <th></th>\n",
       "      <th></th>\n",
       "      <th></th>\n",
       "      <th></th>\n",
       "      <th></th>\n",
       "      <th></th>\n",
       "    </tr>\n",
       "  </thead>\n",
       "  <tbody>\n",
       "    <tr>\n",
       "      <th>2009-06-20</th>\n",
       "      <td>2547</td>\n",
       "      <td>Woman killed in protests (Iran) *shocking, nsfw.</td>\n",
       "      <td>True</td>\n",
       "      <td>cactusrex</td>\n",
       "      <td>18</td>\n",
       "      <td>5</td>\n",
       "      <td>20</td>\n",
       "      <td>6</td>\n",
       "    </tr>\n",
       "    <tr>\n",
       "      <th>2012-05-17</th>\n",
       "      <td>2351</td>\n",
       "      <td>Mexico s Drug War: 50,000 Dead in 6 Years</td>\n",
       "      <td>True</td>\n",
       "      <td>mepper</td>\n",
       "      <td>16</td>\n",
       "      <td>3</td>\n",
       "      <td>17</td>\n",
       "      <td>5</td>\n",
       "    </tr>\n",
       "    <tr>\n",
       "      <th>2012-09-21</th>\n",
       "      <td>1905</td>\n",
       "      <td>Muslim, let s get naked : Ukraine-based activ...</td>\n",
       "      <td>True</td>\n",
       "      <td>KatieMorosky</td>\n",
       "      <td>16</td>\n",
       "      <td>4</td>\n",
       "      <td>21</td>\n",
       "      <td>9</td>\n",
       "    </tr>\n",
       "  </tbody>\n",
       "</table>\n",
       "</div>"
      ],
      "text/plain": [
       "              up_votes                                              title  \\\n",
       "date_created                                                                \n",
       "2009-06-20        2547   Woman killed in protests (Iran) *shocking, nsfw.   \n",
       "2012-05-17        2351          Mexico s Drug War: 50,000 Dead in 6 Years   \n",
       "2012-09-21        1905   Muslim, let s get naked : Ukraine-based activ...   \n",
       "\n",
       "              over_18        author  hour  day_of_week  day_of_month  month  \n",
       "date_created                                                                 \n",
       "2009-06-20       True     cactusrex    18            5            20      6  \n",
       "2012-05-17       True        mepper    16            3            17      5  \n",
       "2012-09-21       True  KatieMorosky    16            4            21      9  "
      ]
     },
     "execution_count": 29,
     "metadata": {},
     "output_type": "execute_result"
    }
   ],
   "source": [
    "top_20_over18=df.loc[df['over_18'] == True]\n",
    "top_20_over18=top_20_over18.loc[top_20_over18['up_votes']>=1900] #remove .head and run to view all records\n",
    "top_20_over18.head(3)"
   ]
  },
  {
   "cell_type": "markdown",
   "metadata": {},
   "source": [
    "- based on up_votes and over_18 (true) above are top 20 events and finding the sentiments of above titles may give good insights, will try this in Next part"
   ]
  },
  {
   "cell_type": "code",
   "execution_count": 30,
   "metadata": {},
   "outputs": [
    {
     "data": {
      "text/plain": [
       "(15, 8)"
      ]
     },
     "execution_count": 30,
     "metadata": {},
     "output_type": "execute_result"
    }
   ],
   "source": [
    "top_15_below18=df.loc[df['over_18'] == False]\n",
    "top_15_below18=top_15_below18.loc[top_15_below18['up_votes']>=10000] #remove .head and run to view all records\n",
    "top_15_below18.shape"
   ]
  },
  {
   "cell_type": "markdown",
   "metadata": {},
   "source": [
    "- based on up_votes and over_18 (false) above are top 15 events and finding the sentiments of above titles may give good insights, will try this in Next part"
   ]
  },
  {
   "cell_type": "code",
   "execution_count": 31,
   "metadata": {
    "scrolled": true
   },
   "outputs": [
    {
     "data": {
      "text/plain": [
       "<AxesSubplot:>"
      ]
     },
     "execution_count": 31,
     "metadata": {},
     "output_type": "execute_result"
    },
    {
     "data": {
      "image/png": "[encoded data removed]",
      "text/plain": [
       "<Figure size 432x288 with 2 Axes>"
      ]
     },
     "metadata": {
      "needs_background": "light"
     },
     "output_type": "display_data"
    }
   ],
   "source": [
    "#correlation_matrix\n",
    "corr_m = df.corr() \n",
    "f, ax = plt.subplots(figsize =(6,4)) \n",
    "sns.heatmap(corr_m,annot=True, cmap =\"YlGnBu\", linewidths = 0.1) "
   ]
  },
  {
   "cell_type": "markdown",
   "metadata": {},
   "source": [
    "# Preprocessing"
   ]
  },
  {
   "cell_type": "code",
   "execution_count": 32,
   "metadata": {},
   "outputs": [],
   "source": [
    "import nltk\n",
    "from nltk.stem import WordNetLemmatizer\n",
    "from nltk.corpus import stopwords\n",
    "from nltk.stem.porter import PorterStemmer\n",
    "from wordcloud import WordCloud,STOPWORDS\n",
    "from nltk import pos_tag\n",
    "from nltk.corpus import wordnet\n",
    "import string\n",
    "from sklearn.feature_extraction.text import ENGLISH_STOP_WORDS"
   ]
  },
  {
   "cell_type": "code",
   "execution_count": 33,
   "metadata": {},
   "outputs": [],
   "source": [
    "from nltk import pos_tag"
   ]
  },
  {
   "cell_type": "code",
   "execution_count": 34,
   "metadata": {},
   "outputs": [],
   "source": [
    "#variables\n",
    "stopwords = list(ENGLISH_STOP_WORDS)\n",
    "#more stopwords can be added by using .append \n",
    "p = string.punctuation\n",
    "d = string.digits\n",
    "combined = p + d\n",
    "stop=stopwords.append(combined)\n",
    "docs1=[]"
   ]
  },
  {
   "cell_type": "code",
   "execution_count": 35,
   "metadata": {},
   "outputs": [],
   "source": [
    "def func(txt):\n",
    "    txt = txt.lower() #normalizing\n",
    "    table = str.maketrans(combined, len(combined) * \" \") #removing punc\n",
    "    txt = txt.translate(table)\n",
    "    words = txt.split()\n",
    "    cleaned_words = [w for w in words if w not in stopwords] #removing stopwords\n",
    "    cleaned_text = \" \".join(cleaned_words) #cleaned text\n",
    "    return cleaned_text"
   ]
  },
  {
   "cell_type": "code",
   "execution_count": 36,
   "metadata": {},
   "outputs": [],
   "source": [
    "cor1 =(df['title'])\n",
    "#cor = ','.join([str(i) for i in cor1])\n",
    "#cor2=func(cor1)\n",
    "#docs1.append(cor2)"
   ]
  },
  {
   "cell_type": "code",
   "execution_count": 37,
   "metadata": {},
   "outputs": [],
   "source": [
    "df_trail=df.copy()"
   ]
  },
  {
   "cell_type": "code",
   "execution_count": 38,
   "metadata": {},
   "outputs": [
    {
     "data": {
      "text/html": [
       "<div>\n",
       "<style scoped>\n",
       "    .dataframe tbody tr th:only-of-type {\n",
       "        vertical-align: middle;\n",
       "    }\n",
       "\n",
       "    .dataframe tbody tr th {\n",
       "        vertical-align: top;\n",
       "    }\n",
       "\n",
       "    .dataframe thead th {\n",
       "        text-align: right;\n",
       "    }\n",
       "</style>\n",
       "<table border=\"1\" class=\"dataframe\">\n",
       "  <thead>\n",
       "    <tr style=\"text-align: right;\">\n",
       "      <th></th>\n",
       "      <th>up_votes</th>\n",
       "      <th>title</th>\n",
       "      <th>over_18</th>\n",
       "      <th>author</th>\n",
       "      <th>hour</th>\n",
       "      <th>day_of_week</th>\n",
       "      <th>day_of_month</th>\n",
       "      <th>month</th>\n",
       "    </tr>\n",
       "    <tr>\n",
       "      <th>date_created</th>\n",
       "      <th></th>\n",
       "      <th></th>\n",
       "      <th></th>\n",
       "      <th></th>\n",
       "      <th></th>\n",
       "      <th></th>\n",
       "      <th></th>\n",
       "      <th></th>\n",
       "    </tr>\n",
       "  </thead>\n",
       "  <tbody>\n",
       "    <tr>\n",
       "      <th>2008-01-25</th>\n",
       "      <td>3</td>\n",
       "      <td>Scores killed in Pakistan clashes</td>\n",
       "      <td>False</td>\n",
       "      <td>polar</td>\n",
       "      <td>3</td>\n",
       "      <td>4</td>\n",
       "      <td>25</td>\n",
       "      <td>1</td>\n",
       "    </tr>\n",
       "    <tr>\n",
       "      <th>2008-01-25</th>\n",
       "      <td>2</td>\n",
       "      <td>Japan resumes refuelling mission</td>\n",
       "      <td>False</td>\n",
       "      <td>polar</td>\n",
       "      <td>3</td>\n",
       "      <td>4</td>\n",
       "      <td>25</td>\n",
       "      <td>1</td>\n",
       "    </tr>\n",
       "    <tr>\n",
       "      <th>2008-01-25</th>\n",
       "      <td>3</td>\n",
       "      <td>US presses Egypt on Gaza border</td>\n",
       "      <td>False</td>\n",
       "      <td>polar</td>\n",
       "      <td>3</td>\n",
       "      <td>4</td>\n",
       "      <td>25</td>\n",
       "      <td>1</td>\n",
       "    </tr>\n",
       "    <tr>\n",
       "      <th>2008-01-25</th>\n",
       "      <td>1</td>\n",
       "      <td>Jump-start economy: Give health care to all</td>\n",
       "      <td>False</td>\n",
       "      <td>fadi420</td>\n",
       "      <td>3</td>\n",
       "      <td>4</td>\n",
       "      <td>25</td>\n",
       "      <td>1</td>\n",
       "    </tr>\n",
       "    <tr>\n",
       "      <th>2008-01-25</th>\n",
       "      <td>4</td>\n",
       "      <td>Council of Europe bashes EU&amp;UN terror blacklist</td>\n",
       "      <td>False</td>\n",
       "      <td>mhermans</td>\n",
       "      <td>15</td>\n",
       "      <td>4</td>\n",
       "      <td>25</td>\n",
       "      <td>1</td>\n",
       "    </tr>\n",
       "    <tr>\n",
       "      <th>...</th>\n",
       "      <td>...</td>\n",
       "      <td>...</td>\n",
       "      <td>...</td>\n",
       "      <td>...</td>\n",
       "      <td>...</td>\n",
       "      <td>...</td>\n",
       "      <td>...</td>\n",
       "      <td>...</td>\n",
       "    </tr>\n",
       "    <tr>\n",
       "      <th>2016-11-22</th>\n",
       "      <td>5</td>\n",
       "      <td>Heil Trump : Donald Trump s  alt-right  white...</td>\n",
       "      <td>False</td>\n",
       "      <td>nonamenoglory</td>\n",
       "      <td>12</td>\n",
       "      <td>1</td>\n",
       "      <td>22</td>\n",
       "      <td>11</td>\n",
       "    </tr>\n",
       "    <tr>\n",
       "      <th>2016-11-22</th>\n",
       "      <td>1</td>\n",
       "      <td>There are people speculating that this could b...</td>\n",
       "      <td>False</td>\n",
       "      <td>SummerRay</td>\n",
       "      <td>12</td>\n",
       "      <td>1</td>\n",
       "      <td>22</td>\n",
       "      <td>11</td>\n",
       "    </tr>\n",
       "    <tr>\n",
       "      <th>2016-11-22</th>\n",
       "      <td>1</td>\n",
       "      <td>Professor receives Arab Researchers Award</td>\n",
       "      <td>False</td>\n",
       "      <td>AUSharjah</td>\n",
       "      <td>12</td>\n",
       "      <td>1</td>\n",
       "      <td>22</td>\n",
       "      <td>11</td>\n",
       "    </tr>\n",
       "    <tr>\n",
       "      <th>2016-11-22</th>\n",
       "      <td>1</td>\n",
       "      <td>Nigel Farage attacks response to Trump ambassa...</td>\n",
       "      <td>False</td>\n",
       "      <td>smilyflower</td>\n",
       "      <td>12</td>\n",
       "      <td>1</td>\n",
       "      <td>22</td>\n",
       "      <td>11</td>\n",
       "    </tr>\n",
       "    <tr>\n",
       "      <th>2016-11-22</th>\n",
       "      <td>1</td>\n",
       "      <td>Palestinian wielding knife shot dead in West B...</td>\n",
       "      <td>False</td>\n",
       "      <td>superislam</td>\n",
       "      <td>12</td>\n",
       "      <td>1</td>\n",
       "      <td>22</td>\n",
       "      <td>11</td>\n",
       "    </tr>\n",
       "  </tbody>\n",
       "</table>\n",
       "<p>509236 rows × 8 columns</p>\n",
       "</div>"
      ],
      "text/plain": [
       "              up_votes                                              title  \\\n",
       "date_created                                                                \n",
       "2008-01-25           3                  Scores killed in Pakistan clashes   \n",
       "2008-01-25           2                   Japan resumes refuelling mission   \n",
       "2008-01-25           3                    US presses Egypt on Gaza border   \n",
       "2008-01-25           1       Jump-start economy: Give health care to all    \n",
       "2008-01-25           4    Council of Europe bashes EU&UN terror blacklist   \n",
       "...                ...                                                ...   \n",
       "2016-11-22           5   Heil Trump : Donald Trump s  alt-right  white...   \n",
       "2016-11-22           1  There are people speculating that this could b...   \n",
       "2016-11-22           1          Professor receives Arab Researchers Award   \n",
       "2016-11-22           1  Nigel Farage attacks response to Trump ambassa...   \n",
       "2016-11-22           1  Palestinian wielding knife shot dead in West B...   \n",
       "\n",
       "              over_18         author  hour  day_of_week  day_of_month  month  \n",
       "date_created                                                                  \n",
       "2008-01-25      False          polar     3            4            25      1  \n",
       "2008-01-25      False          polar     3            4            25      1  \n",
       "2008-01-25      False          polar     3            4            25      1  \n",
       "2008-01-25      False        fadi420     3            4            25      1  \n",
       "2008-01-25      False       mhermans    15            4            25      1  \n",
       "...               ...            ...   ...          ...           ...    ...  \n",
       "2016-11-22      False  nonamenoglory    12            1            22     11  \n",
       "2016-11-22      False      SummerRay    12            1            22     11  \n",
       "2016-11-22      False      AUSharjah    12            1            22     11  \n",
       "2016-11-22      False    smilyflower    12            1            22     11  \n",
       "2016-11-22      False     superislam    12            1            22     11  \n",
       "\n",
       "[509236 rows x 8 columns]"
      ]
     },
     "execution_count": 38,
     "metadata": {},
     "output_type": "execute_result"
    }
   ],
   "source": [
    "df_trail"
   ]
  },
  {
   "cell_type": "code",
   "execution_count": 39,
   "metadata": {},
   "outputs": [],
   "source": [
    "df_trail['title']=df_trail['title'].astype(str)"
   ]
  },
  {
   "cell_type": "code",
   "execution_count": 40,
   "metadata": {},
   "outputs": [],
   "source": [
    "df_trail['cleaned_title'] = df_trail.title.apply(func)"
   ]
  },
  {
   "cell_type": "code",
   "execution_count": 41,
   "metadata": {},
   "outputs": [],
   "source": [
    "#lemmatization\n",
    "from nltk.stem import WordNetLemmatizer\n",
    "wnl = WordNetLemmatizer()\n",
    "\n",
    "def lem(text):\n",
    "    lem_doc = []\n",
    "    out_str=' '\n",
    "    for i in text.split():\n",
    "        #pos = pos_tag([i.strip()])\n",
    "        word = wnl.lemmatize(i.strip())\n",
    "        lem_doc.append(word)\n",
    "        out_str=' '.join([str(elem) for elem in lem_doc])\n",
    "    return lem_doc"
   ]
  },
  {
   "cell_type": "code",
   "execution_count": 42,
   "metadata": {},
   "outputs": [],
   "source": [
    "df_trail.cleaned_title = df_trail.cleaned_title.apply(lem)"
   ]
  },
  {
   "cell_type": "code",
   "execution_count": 43,
   "metadata": {},
   "outputs": [
    {
     "data": {
      "text/html": [
       "<div>\n",
       "<style scoped>\n",
       "    .dataframe tbody tr th:only-of-type {\n",
       "        vertical-align: middle;\n",
       "    }\n",
       "\n",
       "    .dataframe tbody tr th {\n",
       "        vertical-align: top;\n",
       "    }\n",
       "\n",
       "    .dataframe thead th {\n",
       "        text-align: right;\n",
       "    }\n",
       "</style>\n",
       "<table border=\"1\" class=\"dataframe\">\n",
       "  <thead>\n",
       "    <tr style=\"text-align: right;\">\n",
       "      <th></th>\n",
       "      <th>up_votes</th>\n",
       "      <th>title</th>\n",
       "      <th>over_18</th>\n",
       "      <th>author</th>\n",
       "      <th>hour</th>\n",
       "      <th>day_of_week</th>\n",
       "      <th>day_of_month</th>\n",
       "      <th>month</th>\n",
       "      <th>cleaned_title</th>\n",
       "    </tr>\n",
       "    <tr>\n",
       "      <th>date_created</th>\n",
       "      <th></th>\n",
       "      <th></th>\n",
       "      <th></th>\n",
       "      <th></th>\n",
       "      <th></th>\n",
       "      <th></th>\n",
       "      <th></th>\n",
       "      <th></th>\n",
       "      <th></th>\n",
       "    </tr>\n",
       "  </thead>\n",
       "  <tbody>\n",
       "    <tr>\n",
       "      <th>2008-01-25</th>\n",
       "      <td>3</td>\n",
       "      <td>Scores killed in Pakistan clashes</td>\n",
       "      <td>False</td>\n",
       "      <td>polar</td>\n",
       "      <td>3</td>\n",
       "      <td>4</td>\n",
       "      <td>25</td>\n",
       "      <td>1</td>\n",
       "      <td>[score, killed, pakistan, clash]</td>\n",
       "    </tr>\n",
       "    <tr>\n",
       "      <th>2008-01-25</th>\n",
       "      <td>2</td>\n",
       "      <td>Japan resumes refuelling mission</td>\n",
       "      <td>False</td>\n",
       "      <td>polar</td>\n",
       "      <td>3</td>\n",
       "      <td>4</td>\n",
       "      <td>25</td>\n",
       "      <td>1</td>\n",
       "      <td>[japan, resume, refuelling, mission]</td>\n",
       "    </tr>\n",
       "  </tbody>\n",
       "</table>\n",
       "</div>"
      ],
      "text/plain": [
       "              up_votes                              title  over_18 author  \\\n",
       "date_created                                                                \n",
       "2008-01-25           3  Scores killed in Pakistan clashes    False  polar   \n",
       "2008-01-25           2   Japan resumes refuelling mission    False  polar   \n",
       "\n",
       "              hour  day_of_week  day_of_month  month  \\\n",
       "date_created                                           \n",
       "2008-01-25       3            4            25      1   \n",
       "2008-01-25       3            4            25      1   \n",
       "\n",
       "                                     cleaned_title  \n",
       "date_created                                        \n",
       "2008-01-25        [score, killed, pakistan, clash]  \n",
       "2008-01-25    [japan, resume, refuelling, mission]  "
      ]
     },
     "execution_count": 43,
     "metadata": {},
     "output_type": "execute_result"
    }
   ],
   "source": [
    "df_trail.head(2)"
   ]
  },
  {
   "cell_type": "code",
   "execution_count": 44,
   "metadata": {},
   "outputs": [],
   "source": [
    "from nltk.stem.porter import PorterStemmer\n",
    "stemmer = PorterStemmer()"
   ]
  },
  {
   "cell_type": "code",
   "execution_count": 45,
   "metadata": {},
   "outputs": [],
   "source": [
    "df_trail['stemmed'] = df_trail['cleaned_title'].map(lambda wl: [stemmer.stem(w) for w in wl])"
   ]
  },
  {
   "cell_type": "code",
   "execution_count": 46,
   "metadata": {},
   "outputs": [],
   "source": [
    "df_trail['stemd'] = df_trail.stemmed.apply(lambda x: ' '.join([str(i) for i in x]))"
   ]
  },
  {
   "cell_type": "code",
   "execution_count": 47,
   "metadata": {},
   "outputs": [],
   "source": [
    "df_trail=df_trail.reset_index()\n",
    "df_trail=df_trail.drop(columns=['date_created','author','hour','day_of_week','day_of_month','month'])"
   ]
  },
  {
   "cell_type": "code",
   "execution_count": 48,
   "metadata": {},
   "outputs": [],
   "source": [
    "df_trail.to_csv(\"stem.csv\")"
   ]
  },
  {
   "cell_type": "code",
   "execution_count": 49,
   "metadata": {},
   "outputs": [],
   "source": [
    "#Top words in data\n",
    "words=pd.Series(np.concatenate(df_trail['stemmed'].values)).value_counts()"
   ]
  },
  {
   "cell_type": "code",
   "execution_count": 50,
   "metadata": {},
   "outputs": [
    {
     "data": {
      "text/plain": [
       "s         98825\n",
       "say       34465\n",
       "kill      28749\n",
       "china     25101\n",
       "new       23332\n",
       "attack    22538\n",
       "u         21348\n",
       "year      20997\n",
       "syria     18523\n",
       "russia    18051\n",
       "dtype: int64"
      ]
     },
     "execution_count": 50,
     "metadata": {},
     "output_type": "execute_result"
    }
   ],
   "source": [
    "words[:10]"
   ]
  },
  {
   "cell_type": "code",
   "execution_count": 51,
   "metadata": {},
   "outputs": [],
   "source": [
    "to_plot=words[:30]"
   ]
  },
  {
   "cell_type": "code",
   "execution_count": 52,
   "metadata": {},
   "outputs": [
    {
     "data": {
      "text/plain": [
       "<AxesSubplot:>"
      ]
     },
     "execution_count": 52,
     "metadata": {},
     "output_type": "execute_result"
    },
    {
     "data": {
      "image/png": "[encoded data removed]",
      "text/plain": [
       "<Figure size 432x288 with 1 Axes>"
      ]
     },
     "metadata": {},
     "output_type": "display_data"
    }
   ],
   "source": [
    "plt.style.use('ggplot')\n",
    "to_plot.T.plot(kind='bar')"
   ]
  },
  {
   "cell_type": "code",
   "execution_count": 53,
   "metadata": {},
   "outputs": [
    {
     "data": {
      "text/html": [
       "<div>\n",
       "<style scoped>\n",
       "    .dataframe tbody tr th:only-of-type {\n",
       "        vertical-align: middle;\n",
       "    }\n",
       "\n",
       "    .dataframe tbody tr th {\n",
       "        vertical-align: top;\n",
       "    }\n",
       "\n",
       "    .dataframe thead th {\n",
       "        text-align: right;\n",
       "    }\n",
       "</style>\n",
       "<table border=\"1\" class=\"dataframe\">\n",
       "  <thead>\n",
       "    <tr style=\"text-align: right;\">\n",
       "      <th></th>\n",
       "      <th>up_votes</th>\n",
       "      <th>title</th>\n",
       "      <th>over_18</th>\n",
       "      <th>cleaned_title</th>\n",
       "      <th>stemmed</th>\n",
       "      <th>stemd</th>\n",
       "    </tr>\n",
       "  </thead>\n",
       "  <tbody>\n",
       "    <tr>\n",
       "      <th>0</th>\n",
       "      <td>3</td>\n",
       "      <td>Scores killed in Pakistan clashes</td>\n",
       "      <td>False</td>\n",
       "      <td>[score, killed, pakistan, clash]</td>\n",
       "      <td>[score, kill, pakistan, clash]</td>\n",
       "      <td>score kill pakistan clash</td>\n",
       "    </tr>\n",
       "    <tr>\n",
       "      <th>1</th>\n",
       "      <td>2</td>\n",
       "      <td>Japan resumes refuelling mission</td>\n",
       "      <td>False</td>\n",
       "      <td>[japan, resume, refuelling, mission]</td>\n",
       "      <td>[japan, resum, refuel, mission]</td>\n",
       "      <td>japan resum refuel mission</td>\n",
       "    </tr>\n",
       "    <tr>\n",
       "      <th>2</th>\n",
       "      <td>3</td>\n",
       "      <td>US presses Egypt on Gaza border</td>\n",
       "      <td>False</td>\n",
       "      <td>[press, egypt, gaza, border]</td>\n",
       "      <td>[press, egypt, gaza, border]</td>\n",
       "      <td>press egypt gaza border</td>\n",
       "    </tr>\n",
       "    <tr>\n",
       "      <th>3</th>\n",
       "      <td>1</td>\n",
       "      <td>Jump-start economy: Give health care to all</td>\n",
       "      <td>False</td>\n",
       "      <td>[jump, start, economy, health, care]</td>\n",
       "      <td>[jump, start, economi, health, care]</td>\n",
       "      <td>jump start economi health care</td>\n",
       "    </tr>\n",
       "    <tr>\n",
       "      <th>4</th>\n",
       "      <td>4</td>\n",
       "      <td>Council of Europe bashes EU&amp;UN terror blacklist</td>\n",
       "      <td>False</td>\n",
       "      <td>[council, europe, bash, eu, terror, blacklist]</td>\n",
       "      <td>[council, europ, bash, eu, terror, blacklist]</td>\n",
       "      <td>council europ bash eu terror blacklist</td>\n",
       "    </tr>\n",
       "    <tr>\n",
       "      <th>...</th>\n",
       "      <td>...</td>\n",
       "      <td>...</td>\n",
       "      <td>...</td>\n",
       "      <td>...</td>\n",
       "      <td>...</td>\n",
       "      <td>...</td>\n",
       "    </tr>\n",
       "    <tr>\n",
       "      <th>509231</th>\n",
       "      <td>5</td>\n",
       "      <td>Heil Trump : Donald Trump s  alt-right  white...</td>\n",
       "      <td>False</td>\n",
       "      <td>[heil, trump, donald, trump, s, alt, right, wh...</td>\n",
       "      <td>[heil, trump, donald, trump, s, alt, right, wh...</td>\n",
       "      <td>heil trump donald trump s alt right white nati...</td>\n",
       "    </tr>\n",
       "    <tr>\n",
       "      <th>509232</th>\n",
       "      <td>1</td>\n",
       "      <td>There are people speculating that this could b...</td>\n",
       "      <td>False</td>\n",
       "      <td>[people, speculating, madeleine, mccann]</td>\n",
       "      <td>[peopl, specul, madelein, mccann]</td>\n",
       "      <td>peopl specul madelein mccann</td>\n",
       "    </tr>\n",
       "    <tr>\n",
       "      <th>509233</th>\n",
       "      <td>1</td>\n",
       "      <td>Professor receives Arab Researchers Award</td>\n",
       "      <td>False</td>\n",
       "      <td>[professor, receives, arab, researcher, award]</td>\n",
       "      <td>[professor, receiv, arab, research, award]</td>\n",
       "      <td>professor receiv arab research award</td>\n",
       "    </tr>\n",
       "    <tr>\n",
       "      <th>509234</th>\n",
       "      <td>1</td>\n",
       "      <td>Nigel Farage attacks response to Trump ambassa...</td>\n",
       "      <td>False</td>\n",
       "      <td>[nigel, farage, attack, response, trump, ambas...</td>\n",
       "      <td>[nigel, farag, attack, respons, trump, ambassa...</td>\n",
       "      <td>nigel farag attack respons trump ambassador tweet</td>\n",
       "    </tr>\n",
       "    <tr>\n",
       "      <th>509235</th>\n",
       "      <td>1</td>\n",
       "      <td>Palestinian wielding knife shot dead in West B...</td>\n",
       "      <td>False</td>\n",
       "      <td>[palestinian, wielding, knife, shot, dead, wes...</td>\n",
       "      <td>[palestinian, wield, knife, shot, dead, west, ...</td>\n",
       "      <td>palestinian wield knife shot dead west bank is...</td>\n",
       "    </tr>\n",
       "  </tbody>\n",
       "</table>\n",
       "<p>509236 rows × 6 columns</p>\n",
       "</div>"
      ],
      "text/plain": [
       "        up_votes                                              title  over_18  \\\n",
       "0              3                  Scores killed in Pakistan clashes    False   \n",
       "1              2                   Japan resumes refuelling mission    False   \n",
       "2              3                    US presses Egypt on Gaza border    False   \n",
       "3              1       Jump-start economy: Give health care to all     False   \n",
       "4              4    Council of Europe bashes EU&UN terror blacklist    False   \n",
       "...          ...                                                ...      ...   \n",
       "509231         5   Heil Trump : Donald Trump s  alt-right  white...    False   \n",
       "509232         1  There are people speculating that this could b...    False   \n",
       "509233         1          Professor receives Arab Researchers Award    False   \n",
       "509234         1  Nigel Farage attacks response to Trump ambassa...    False   \n",
       "509235         1  Palestinian wielding knife shot dead in West B...    False   \n",
       "\n",
       "                                            cleaned_title  \\\n",
       "0                        [score, killed, pakistan, clash]   \n",
       "1                    [japan, resume, refuelling, mission]   \n",
       "2                            [press, egypt, gaza, border]   \n",
       "3                    [jump, start, economy, health, care]   \n",
       "4          [council, europe, bash, eu, terror, blacklist]   \n",
       "...                                                   ...   \n",
       "509231  [heil, trump, donald, trump, s, alt, right, wh...   \n",
       "509232           [people, speculating, madeleine, mccann]   \n",
       "509233     [professor, receives, arab, researcher, award]   \n",
       "509234  [nigel, farage, attack, response, trump, ambas...   \n",
       "509235  [palestinian, wielding, knife, shot, dead, wes...   \n",
       "\n",
       "                                                  stemmed  \\\n",
       "0                          [score, kill, pakistan, clash]   \n",
       "1                         [japan, resum, refuel, mission]   \n",
       "2                            [press, egypt, gaza, border]   \n",
       "3                    [jump, start, economi, health, care]   \n",
       "4           [council, europ, bash, eu, terror, blacklist]   \n",
       "...                                                   ...   \n",
       "509231  [heil, trump, donald, trump, s, alt, right, wh...   \n",
       "509232                  [peopl, specul, madelein, mccann]   \n",
       "509233         [professor, receiv, arab, research, award]   \n",
       "509234  [nigel, farag, attack, respons, trump, ambassa...   \n",
       "509235  [palestinian, wield, knife, shot, dead, west, ...   \n",
       "\n",
       "                                                    stemd  \n",
       "0                               score kill pakistan clash  \n",
       "1                              japan resum refuel mission  \n",
       "2                                 press egypt gaza border  \n",
       "3                          jump start economi health care  \n",
       "4                  council europ bash eu terror blacklist  \n",
       "...                                                   ...  \n",
       "509231  heil trump donald trump s alt right white nati...  \n",
       "509232                       peopl specul madelein mccann  \n",
       "509233               professor receiv arab research award  \n",
       "509234  nigel farag attack respons trump ambassador tweet  \n",
       "509235  palestinian wield knife shot dead west bank is...  \n",
       "\n",
       "[509236 rows x 6 columns]"
      ]
     },
     "execution_count": 53,
     "metadata": {},
     "output_type": "execute_result"
    }
   ],
   "source": [
    "df_trail"
   ]
  },
  {
   "cell_type": "code",
   "execution_count": 54,
   "metadata": {},
   "outputs": [],
   "source": [
    "#dff_topyear (top up votes each year)\n",
    "#top_15_upvotes (top 15 upvotes over all)\n",
    "#top_20_over18 (top 20 upvotes in over_18)"
   ]
  },
  {
   "cell_type": "code",
   "execution_count": 55,
   "metadata": {},
   "outputs": [],
   "source": [
    "dff_topyear.to_csv('dff_topyear.csv')\n",
    "top_15_upvotes.to_csv('top_15_upvotes.csv')\n",
    "top_20_over18.to_csv('top_20_over18.csv')\n",
    "top_15_below18.to_csv('top_15_below18.csv')"
   ]
  },
  {
   "cell_type": "code",
   "execution_count": 56,
   "metadata": {},
   "outputs": [],
   "source": [
    "sid = SentimentIntensityAnalyzer()"
   ]
  },
  {
   "cell_type": "code",
   "execution_count": 57,
   "metadata": {},
   "outputs": [],
   "source": [
    "df_trail['scores'] =df_trail['title'].apply(lambda title: sid.polarity_scores(title))\n",
    "df_trail['compound'] =df_trail['scores'].apply(lambda d:d['compound'])\n",
    "df_trail['sentiment'] = df_trail['compound'].apply(lambda score: '0' if score>=0 else '1')\n",
    "df_trail=df_trail.drop(columns=['cleaned_title','stemmed','stemd','scores','compound'])\n",
    "df_trail['sentiment']=df_trail['sentiment'].astype(int)"
   ]
  },
  {
   "cell_type": "code",
   "execution_count": 58,
   "metadata": {},
   "outputs": [],
   "source": [
    "def sentimnt(frame):\n",
    "    frame['scores'] =frame['title'].apply(lambda title: sid.polarity_scores(title))\n",
    "    frame['compound'] =frame['scores'].apply(lambda d:d['compound'])\n",
    "    frame['sentiment'] = frame['compound'].apply(lambda score: '0' if score>=0 else '1')\n",
    "    frame=frame.reset_index()\n",
    "    frame=frame.drop(columns=['author','hour','day_of_week','day_of_month','month','scores','compound','date_created'])\n",
    "    frame['sentiment']=frame['sentiment'].astype(int)\n",
    "    return frame"
   ]
  },
  {
   "cell_type": "code",
   "execution_count": 59,
   "metadata": {},
   "outputs": [],
   "source": [
    "df_dff_topyear=sentimnt(dff_topyear)\n",
    "df_top_15_upvotes=sentimnt(top_15_upvotes)\n",
    "df_top_20_over18=sentimnt(top_20_over18)\n",
    "df_top_15_below18=sentimnt(top_15_below18)"
   ]
  },
  {
   "cell_type": "markdown",
   "metadata": {},
   "source": [
    "# Top Insights:"
   ]
  },
  {
   "cell_type": "code",
   "execution_count": 60,
   "metadata": {},
   "outputs": [
    {
     "data": {
      "text/plain": [
       "<seaborn.axisgrid.FacetGrid at 0x7fa2df6c3c50>"
      ]
     },
     "execution_count": 60,
     "metadata": {},
     "output_type": "execute_result"
    },
    {
     "data": {
      "image/png": "[encoded data removed]",
      "text/plain": [
       "<Figure size 360x360 with 1 Axes>"
      ]
     },
     "metadata": {},
     "output_type": "display_data"
    }
   ],
   "source": [
    "#overall\n",
    "sns.catplot('sentiment',kind = 'count',data = df_trail,aspect =1)"
   ]
  },
  {
   "cell_type": "code",
   "execution_count": 61,
   "metadata": {},
   "outputs": [
    {
     "data": {
      "text/plain": [
       "<seaborn.axisgrid.FacetGrid at 0x7fa2df3c7490>"
      ]
     },
     "execution_count": 61,
     "metadata": {},
     "output_type": "execute_result"
    },
    {
     "data": {
      "image/png": "[encoded data removed]",
      "text/plain": [
       "<Figure size 360x360 with 1 Axes>"
      ]
     },
     "metadata": {},
     "output_type": "display_data"
    }
   ],
   "source": [
    "# plot showing upvoted events in each year\n",
    "\n",
    "sns.catplot('sentiment',kind = 'count',data = df_dff_topyear,aspect =1)"
   ]
  },
  {
   "cell_type": "code",
   "execution_count": 62,
   "metadata": {},
   "outputs": [
    {
     "data": {
      "text/plain": [
       "<seaborn.axisgrid.FacetGrid at 0x7fa2df36d590>"
      ]
     },
     "execution_count": 62,
     "metadata": {},
     "output_type": "execute_result"
    },
    {
     "data": {
      "image/png": "[encoded data removed]",
      "text/plain": [
       "<Figure size 360x360 with 1 Axes>"
      ]
     },
     "metadata": {},
     "output_type": "display_data"
    }
   ],
   "source": [
    "# plot showing top 15 upvoted events\n",
    "\n",
    "sns.catplot('sentiment',kind = 'count',data = df_top_15_upvotes,aspect =1)"
   ]
  },
  {
   "cell_type": "code",
   "execution_count": 63,
   "metadata": {},
   "outputs": [
    {
     "data": {
      "image/png": "[encoded data removed]",
      "text/plain": [
       "<Figure size 360x360 with 1 Axes>"
      ]
     },
     "metadata": {},
     "output_type": "display_data"
    }
   ],
   "source": [
    "# plot showing top 20 upvoted events with age group over 18\n",
    "\n",
    "a=sns.catplot('sentiment',kind = 'count',data = df_top_20_over18,aspect =1)"
   ]
  },
  {
   "cell_type": "code",
   "execution_count": 64,
   "metadata": {},
   "outputs": [
    {
     "data": {
      "text/plain": [
       "<seaborn.axisgrid.FacetGrid at 0x7fa2df378cd0>"
      ]
     },
     "execution_count": 64,
     "metadata": {},
     "output_type": "execute_result"
    },
    {
     "data": {
      "image/png": "[encoded data removed]",
      "text/plain": [
       "<Figure size 360x360 with 1 Axes>"
      ]
     },
     "metadata": {},
     "output_type": "display_data"
    }
   ],
   "source": [
    "# plot showing top 15 upvoted events with age group below 18\n",
    "\n",
    "sns.catplot('sentiment',kind = 'count',data = df_top_15_below18,aspect =1)"
   ]
  },
  {
   "cell_type": "markdown",
   "metadata": {},
   "source": [
    "- Overall auidence:\n",
    " - First, majority of auidence on positive sentiment events.  \n",
    " - but in top 15 up voted events: negative content events wins with not greater variation to positive events.\n",
    "- Over 18 vs below 18:\n",
    " - Majority of Over18 auidence in top 20 upvoted events are interested in positive content\n",
    " - Majority of Below18 auidence in top 15 upvoted events are interested in negative content\n",
    "- Highest up voted in each year, negative content events had more popularity."
   ]
  },
  {
   "cell_type": "markdown",
   "metadata": {},
   "source": [
    "## Continue..\n",
    "- model building using LSTM is in next notebook"
   ]
  },
  {
   "cell_type": "code",
   "execution_count": null,
   "metadata": {},
   "outputs": [],
   "source": []
  },
  {
   "cell_type": "code",
   "execution_count": null,
   "metadata": {},
   "outputs": [],
   "source": []
  },
  {
   "cell_type": "code",
   "execution_count": null,
   "metadata": {},
   "outputs": [],
   "source": []
  },
  {
   "cell_type": "code",
   "execution_count": null,
   "metadata": {},
   "outputs": [],
   "source": []
  }
 ],
 "metadata": {
  "kernelspec": {
   "display_name": "Python 3",
   "language": "python",
   "name": "python3"
  },
  "language_info": {
   "codemirror_mode": {
    "name": "ipython",
    "version": 3
   },
   "file_extension": ".py",
   "mimetype": "text/x-python",
   "name": "python",
   "nbconvert_exporter": "python",
   "pygments_lexer": "ipython3",
   "version": "3.7.9"
  }
 },
 "nbformat": 4,
 "nbformat_minor": 4
}


