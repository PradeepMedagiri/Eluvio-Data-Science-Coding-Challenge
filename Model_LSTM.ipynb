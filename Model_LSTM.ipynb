{
 "cells": [
  {
   "cell_type": "code",
   "execution_count": 1,
   "metadata": {},
   "outputs": [],
   "source": [
    "import pandas as pd\n",
    "import numpy as np\n",
    "import matplotlib.pyplot as plt\n",
    "from gensim.models import Word2Vec\n",
    "import multiprocessing\n",
    "from tensorflow.python.keras.preprocessing.text import Tokenizer\n",
    "from tensorflow.python.keras.preprocessing.sequence import pad_sequences\n",
    "from tensorflow.keras.layers import Dense, Embedding, GlobalAveragePooling1D, GRU\n",
    "import tensorflow as tf\n",
    "from tensorflow import keras\n",
    "from tensorflow.keras import layers\n",
    "from tensorflow.keras import Sequential\n",
    "from tensorflow.keras.layers import LSTM"
   ]
  },
  {
   "cell_type": "code",
   "execution_count": 2,
   "metadata": {},
   "outputs": [],
   "source": [
    "import os\n",
    "import seaborn as sns"
   ]
  },
  {
   "cell_type": "code",
   "execution_count": 3,
   "metadata": {},
   "outputs": [],
   "source": [
    "#saved preprocessed data as stem.csv in previous notebook, lets import and build model on it.\n",
    "data=pd.read_csv('stem.csv')"
   ]
  },
  {
   "cell_type": "code",
   "execution_count": 4,
   "metadata": {},
   "outputs": [],
   "source": [
    "data=data.drop(columns=['Unnamed: 0'])"
   ]
  },
  {
   "cell_type": "code",
   "execution_count": 5,
   "metadata": {},
   "outputs": [],
   "source": [
    "data=data.dropna()"
   ]
  },
  {
   "cell_type": "code",
   "execution_count": 6,
   "metadata": {},
   "outputs": [],
   "source": [
    "data=data.reset_index()"
   ]
  },
  {
   "cell_type": "code",
   "execution_count": 7,
   "metadata": {},
   "outputs": [],
   "source": [
    "data=data.drop(columns=['index'])"
   ]
  },
  {
   "cell_type": "code",
   "execution_count": 8,
   "metadata": {},
   "outputs": [
    {
     "data": {
      "text/plain": [
       "<matplotlib.collections.PathCollection at 0x7ff5419c2dd0>"
      ]
     },
     "execution_count": 8,
     "metadata": {},
     "output_type": "execute_result"
    },
    {
     "data": {
      "image/png": "[encoded data removed]",
      "text/plain": [
       "<Figure size 432x288 with 1 Axes>"
      ]
     },
     "metadata": {
      "needs_background": "light"
     },
     "output_type": "display_data"
    }
   ],
   "source": [
    "plt.scatter(data.index,data['up_votes'])"
   ]
  },
  {
   "cell_type": "code",
   "execution_count": 9,
   "metadata": {},
   "outputs": [
    {
     "data": {
      "text/plain": [
       "<AxesSubplot:ylabel='up_votes'>"
      ]
     },
     "execution_count": 9,
     "metadata": {},
     "output_type": "execute_result"
    },
    {
     "data": {
      "image/png": "[encoded data removed]",
      "text/plain": [
       "<Figure size 432x288 with 1 Axes>"
      ]
     },
     "metadata": {
      "needs_background": "light"
     },
     "output_type": "display_data"
    }
   ],
   "source": [
    "sns.stripplot(y=data['up_votes'])"
   ]
  },
  {
   "cell_type": "code",
   "execution_count": 10,
   "metadata": {},
   "outputs": [
    {
     "data": {
      "text/plain": [
       "count    509221.000000\n",
       "mean        112.239421\n",
       "std         541.702340\n",
       "min           0.000000\n",
       "25%           1.000000\n",
       "50%           5.000000\n",
       "75%          16.000000\n",
       "max       21253.000000\n",
       "Name: up_votes, dtype: float64"
      ]
     },
     "execution_count": 10,
     "metadata": {},
     "output_type": "execute_result"
    }
   ],
   "source": [
    "data['up_votes'].describe()"
   ]
  },
  {
   "cell_type": "code",
   "execution_count": 11,
   "metadata": {},
   "outputs": [
    {
     "data": {
      "text/plain": [
       "(509221, 6)"
      ]
     },
     "execution_count": 11,
     "metadata": {},
     "output_type": "execute_result"
    }
   ],
   "source": [
    "data.shape"
   ]
  },
  {
   "cell_type": "code",
   "execution_count": 12,
   "metadata": {},
   "outputs": [
    {
     "data": {
      "text/plain": [
       "((275842, 6), (50397, 6))"
      ]
     },
     "execution_count": 12,
     "metadata": {},
     "output_type": "execute_result"
    }
   ],
   "source": [
    "data.loc[data['up_votes'] <= 5].shape, data.loc[data['up_votes'] >= 100].shape"
   ]
  },
  {
   "cell_type": "markdown",
   "metadata": {},
   "source": [
    "- considering above statistics, up_votes are categorized into 3 types: Low, high."
   ]
  },
  {
   "cell_type": "code",
   "execution_count": 13,
   "metadata": {},
   "outputs": [],
   "source": [
    "up_votes = data['up_votes']\n",
    "\n",
    "vote = [\"\" for x in range(up_votes.size)]\n",
    "\n",
    "for i in range(up_votes.size):\n",
    "    if (up_votes[i] < 100):\n",
    "        vote[i] = \"low\"\n",
    "    else:\n",
    "        vote[i] = \"high\"\n",
    "\n",
    "data['demand'] = vote"
   ]
  },
  {
   "cell_type": "code",
   "execution_count": 14,
   "metadata": {},
   "outputs": [],
   "source": [
    "df_trail=data.copy()"
   ]
  },
  {
   "cell_type": "code",
   "execution_count": 54,
   "metadata": {},
   "outputs": [
    {
     "data": {
      "text/html": [
       "<div>\n",
       "<style scoped>\n",
       "    .dataframe tbody tr th:only-of-type {\n",
       "        vertical-align: middle;\n",
       "    }\n",
       "\n",
       "    .dataframe tbody tr th {\n",
       "        vertical-align: top;\n",
       "    }\n",
       "\n",
       "    .dataframe thead th {\n",
       "        text-align: right;\n",
       "    }\n",
       "</style>\n",
       "<table border=\"1\" class=\"dataframe\">\n",
       "  <thead>\n",
       "    <tr style=\"text-align: right;\">\n",
       "      <th></th>\n",
       "      <th>up_votes</th>\n",
       "      <th>title</th>\n",
       "      <th>over_18</th>\n",
       "      <th>cleaned_title</th>\n",
       "      <th>stemmed</th>\n",
       "      <th>stemd</th>\n",
       "      <th>demand</th>\n",
       "    </tr>\n",
       "  </thead>\n",
       "  <tbody>\n",
       "    <tr>\n",
       "      <th>509216</th>\n",
       "      <td>5</td>\n",
       "      <td>Heil Trump : Donald Trump s  alt-right  white...</td>\n",
       "      <td>False</td>\n",
       "      <td>['heil', 'trump', 'donald', 'trump', 's', 'alt...</td>\n",
       "      <td>['heil', 'trump', 'donald', 'trump', 's', 'alt...</td>\n",
       "      <td>heil trump donald trump s alt right white nati...</td>\n",
       "      <td>low</td>\n",
       "    </tr>\n",
       "    <tr>\n",
       "      <th>509217</th>\n",
       "      <td>1</td>\n",
       "      <td>There are people speculating that this could b...</td>\n",
       "      <td>False</td>\n",
       "      <td>['people', 'speculating', 'madeleine', 'mccann']</td>\n",
       "      <td>['peopl', 'specul', 'madelein', 'mccann']</td>\n",
       "      <td>peopl specul madelein mccann</td>\n",
       "      <td>low</td>\n",
       "    </tr>\n",
       "    <tr>\n",
       "      <th>509218</th>\n",
       "      <td>1</td>\n",
       "      <td>Professor receives Arab Researchers Award</td>\n",
       "      <td>False</td>\n",
       "      <td>['professor', 'receives', 'arab', 'researcher'...</td>\n",
       "      <td>['professor', 'receiv', 'arab', 'research', 'a...</td>\n",
       "      <td>professor receiv arab research award</td>\n",
       "      <td>low</td>\n",
       "    </tr>\n",
       "    <tr>\n",
       "      <th>509219</th>\n",
       "      <td>1</td>\n",
       "      <td>Nigel Farage attacks response to Trump ambassa...</td>\n",
       "      <td>False</td>\n",
       "      <td>['nigel', 'farage', 'attack', 'response', 'tru...</td>\n",
       "      <td>['nigel', 'farag', 'attack', 'respons', 'trump...</td>\n",
       "      <td>nigel farag attack respons trump ambassador tweet</td>\n",
       "      <td>low</td>\n",
       "    </tr>\n",
       "    <tr>\n",
       "      <th>509220</th>\n",
       "      <td>1</td>\n",
       "      <td>Palestinian wielding knife shot dead in West B...</td>\n",
       "      <td>False</td>\n",
       "      <td>['palestinian', 'wielding', 'knife', 'shot', '...</td>\n",
       "      <td>['palestinian', 'wield', 'knife', 'shot', 'dea...</td>\n",
       "      <td>palestinian wield knife shot dead west bank is...</td>\n",
       "      <td>low</td>\n",
       "    </tr>\n",
       "  </tbody>\n",
       "</table>\n",
       "</div>"
      ],
      "text/plain": [
       "        up_votes                                              title  over_18  \\\n",
       "509216         5   Heil Trump : Donald Trump s  alt-right  white...    False   \n",
       "509217         1  There are people speculating that this could b...    False   \n",
       "509218         1          Professor receives Arab Researchers Award    False   \n",
       "509219         1  Nigel Farage attacks response to Trump ambassa...    False   \n",
       "509220         1  Palestinian wielding knife shot dead in West B...    False   \n",
       "\n",
       "                                            cleaned_title  \\\n",
       "509216  ['heil', 'trump', 'donald', 'trump', 's', 'alt...   \n",
       "509217   ['people', 'speculating', 'madeleine', 'mccann']   \n",
       "509218  ['professor', 'receives', 'arab', 'researcher'...   \n",
       "509219  ['nigel', 'farage', 'attack', 'response', 'tru...   \n",
       "509220  ['palestinian', 'wielding', 'knife', 'shot', '...   \n",
       "\n",
       "                                                  stemmed  \\\n",
       "509216  ['heil', 'trump', 'donald', 'trump', 's', 'alt...   \n",
       "509217          ['peopl', 'specul', 'madelein', 'mccann']   \n",
       "509218  ['professor', 'receiv', 'arab', 'research', 'a...   \n",
       "509219  ['nigel', 'farag', 'attack', 'respons', 'trump...   \n",
       "509220  ['palestinian', 'wield', 'knife', 'shot', 'dea...   \n",
       "\n",
       "                                                    stemd demand  \n",
       "509216  heil trump donald trump s alt right white nati...    low  \n",
       "509217                       peopl specul madelein mccann    low  \n",
       "509218               professor receiv arab research award    low  \n",
       "509219  nigel farag attack respons trump ambassador tweet    low  \n",
       "509220  palestinian wield knife shot dead west bank is...    low  "
      ]
     },
     "execution_count": 54,
     "metadata": {},
     "output_type": "execute_result"
    }
   ],
   "source": [
    "df_trail.tail(5)"
   ]
  },
  {
   "cell_type": "code",
   "execution_count": 17,
   "metadata": {},
   "outputs": [],
   "source": [
    "vec=df_trail['stemd']\n",
    "model = Word2Vec(sentences=vec, size=100, window=5, min_count=2, workers=multiprocessing.cpu_count())"
   ]
  },
  {
   "cell_type": "code",
   "execution_count": 18,
   "metadata": {},
   "outputs": [],
   "source": [
    "model.wv.save_word2vec_format(\"embd.txt\", binary=False)"
   ]
  },
  {
   "cell_type": "code",
   "execution_count": 19,
   "metadata": {},
   "outputs": [],
   "source": [
    "embeddings_index = {}\n",
    "f = open(os.path.join('','embd.txt'), encoding=\"utf-8\")\n",
    "for line in f:\n",
    "    values = line.split()\n",
    "    word = values[0]\n",
    "    coefs = np.asarray(values[1:])\n",
    "    embeddings_index[word] = coefs\n",
    "f.close()"
   ]
  },
  {
   "cell_type": "code",
   "execution_count": 20,
   "metadata": {},
   "outputs": [],
   "source": [
    "tokenizer= Tokenizer()\n",
    "tokenizer.fit_on_texts(df_trail['stemd'])\n",
    "sequences = tokenizer.texts_to_sequences(df_trail['stemd'])\n",
    "word_index = tokenizer.word_index\n",
    "length = max([len(t.split()) for t in df_trail['title']])\n",
    "title_pad = pad_sequences(sequences, maxlen = length)"
   ]
  },
  {
   "cell_type": "code",
   "execution_count": 21,
   "metadata": {},
   "outputs": [],
   "source": [
    "num_words = len(word_index) + 1\n",
    "embedding_matrix = np.zeros((num_words, 100))\n",
    "for word, i in word_index.items():\n",
    "    if i > num_words:\n",
    "        continue\n",
    "    embedding_vector = embeddings_index.get(word)\n",
    "    if embedding_vector is not None:\n",
    "        embedding_matrix[i] = embedding_vector"
   ]
  },
  {
   "cell_type": "markdown",
   "metadata": {},
   "source": [
    "## LSTM"
   ]
  },
  {
   "cell_type": "code",
   "execution_count": 22,
   "metadata": {},
   "outputs": [],
   "source": [
    "model = Sequential()\n",
    "embedding_layer = Embedding(num_words,\n",
    "                           100,\n",
    "                           embeddings_initializer=tf.keras.initializers.Constant(embedding_matrix),\n",
    "                           input_length=length,\n",
    "                           trainable=True)\n",
    "model.add(embedding_layer)\n",
    "model.add(tf.keras.layers.SpatialDropout1D(0.2))\n",
    "model.add(LSTM(units=100,dropout=0.2,recurrent_dropout=0.2))\n",
    "model.add(Dense(2,activation='sigmoid'))\n",
    "model.compile(loss = 'binary_crossentropy',optimizer='adam', metrics=['accuracy'])"
   ]
  },
  {
   "cell_type": "code",
   "execution_count": 23,
   "metadata": {},
   "outputs": [],
   "source": [
    "#demand\n",
    "demand = df_trail[['demand']]\n",
    "demand_=pd.get_dummies(demand, columns=['demand'])\n",
    "demand=demand_.to_numpy()"
   ]
  },
  {
   "cell_type": "code",
   "execution_count": 25,
   "metadata": {},
   "outputs": [],
   "source": [
    "X_train = title_pad[:-int(0.2*title_pad.shape[0])]\n",
    "y_train = demand[:-int(0.2*title_pad.shape[0])]\n",
    "X_test = title_pad[-int(0.2*title_pad.shape[0]):]\n",
    "y_test = demand[-int(0.2*title_pad.shape[0]):]"
   ]
  },
  {
   "cell_type": "code",
   "execution_count": 26,
   "metadata": {},
   "outputs": [
    {
     "data": {
      "text/plain": [
       "array([[    0,     0,     0, ...,     3,    61,   255],\n",
       "       [    0,     0,     0, ...,  1311,  7202,   581],\n",
       "       [    0,     0,     0, ...,    68,    92,   102],\n",
       "       ...,\n",
       "       [    0,     0,     0, ...,    25, 13533, 11871],\n",
       "       [    0,     0,     0, ...,   184,  7395,  4108],\n",
       "       [    0,     0,     0, ...,   474,    67,  1181]], dtype=int32)"
      ]
     },
     "execution_count": 26,
     "metadata": {},
     "output_type": "execute_result"
    }
   ],
   "source": [
    "X_train"
   ]
  },
  {
   "cell_type": "code",
   "execution_count": 27,
   "metadata": {},
   "outputs": [
    {
     "name": "stdout",
     "output_type": "stream",
     "text": [
      "Epoch 1/5\n",
      "5729/5729 - 799s - loss: 0.2891 - accuracy: 0.9077 - val_loss: 0.3487 - val_accuracy: 0.8808\n",
      "Epoch 2/5\n",
      "5729/5729 - 783s - loss: 0.2697 - accuracy: 0.9087 - val_loss: 0.3479 - val_accuracy: 0.8808\n",
      "Epoch 3/5\n",
      "5729/5729 - 789s - loss: 0.2552 - accuracy: 0.9112 - val_loss: 0.3495 - val_accuracy: 0.8780\n",
      "Epoch 4/5\n",
      "5729/5729 - 798s - loss: 0.2402 - accuracy: 0.9160 - val_loss: 0.3826 - val_accuracy: 0.8768\n",
      "Epoch 5/5\n",
      "5729/5729 - 831s - loss: 0.2252 - accuracy: 0.9214 - val_loss: 0.3904 - val_accuracy: 0.8664\n"
     ]
    }
   ],
   "source": [
    "history=model.fit(X_train, y_train, batch_size=64, epochs=5, validation_split=0.1, verbose=2)"
   ]
  },
  {
   "cell_type": "code",
   "execution_count": 28,
   "metadata": {},
   "outputs": [
    {
     "name": "stdout",
     "output_type": "stream",
     "text": [
      "Model: \"sequential\"\n",
      "_________________________________________________________________\n",
      "Layer (type)                 Output Shape              Param #   \n",
      "=================================================================\n",
      "embedding (Embedding)        (None, 64, 100)           7629100   \n",
      "_________________________________________________________________\n",
      "spatial_dropout1d (SpatialDr (None, 64, 100)           0         \n",
      "_________________________________________________________________\n",
      "lstm (LSTM)                  (None, 100)               80400     \n",
      "_________________________________________________________________\n",
      "dense (Dense)                (None, 2)                 202       \n",
      "=================================================================\n",
      "Total params: 7,709,702\n",
      "Trainable params: 7,709,702\n",
      "Non-trainable params: 0\n",
      "_________________________________________________________________\n"
     ]
    }
   ],
   "source": [
    "model.summary()"
   ]
  },
  {
   "cell_type": "code",
   "execution_count": 29,
   "metadata": {},
   "outputs": [],
   "source": [
    "y_pred=model.predict(X_test)"
   ]
  },
  {
   "cell_type": "code",
   "execution_count": 30,
   "metadata": {},
   "outputs": [
    {
     "data": {
      "text/plain": [
       "array([[    0,     0,     0, ...,   658,   168,    71],\n",
       "       [    0,     0,     0, ...,   221,    19,    57],\n",
       "       [    0,     0,     0, ...,   615,  2177, 11399],\n",
       "       ...,\n",
       "       [    0,     0,     0, ...,   256,   447,  1186],\n",
       "       [    0,     0,     0, ...,  1726,   648,  1486],\n",
       "       [    0,     0,     0, ...,    75,    17,    14]], dtype=int32)"
      ]
     },
     "execution_count": 30,
     "metadata": {},
     "output_type": "execute_result"
    }
   ],
   "source": [
    "X_test"
   ]
  },
  {
   "cell_type": "code",
   "execution_count": 31,
   "metadata": {},
   "outputs": [],
   "source": [
    "#y_pred, y_test"
   ]
  },
  {
   "cell_type": "code",
   "execution_count": 52,
   "metadata": {},
   "outputs": [
    {
     "data": {
      "text/plain": [
       "<matplotlib.legend.Legend at 0x7ff514b1a090>"
      ]
     },
     "execution_count": 52,
     "metadata": {},
     "output_type": "execute_result"
    },
    {
     "data": {
      "image/png": "[encoded data removed]",
      "text/plain": [
       "<Figure size 432x288 with 1 Axes>"
      ]
     },
     "metadata": {
      "needs_background": "light"
     },
     "output_type": "display_data"
    }
   ],
   "source": [
    "import matplotlib.pyplot as plt\n",
    "plt.plot(history.history['accuracy'],label='train')\n",
    "plt.plot(history.history['val_accuracy'],label='validation')\n",
    "plt.legend()"
   ]
  },
  {
   "cell_type": "code",
   "execution_count": 32,
   "metadata": {},
   "outputs": [
    {
     "name": "stdout",
     "output_type": "stream",
     "text": [
      "3183/3183 [==============================] - 28s 9ms/step - loss: 0.3812 - accuracy: 0.8729\n",
      "Test set\n",
      "  Loss: 0.381\n",
      "  Accuracy: 0.873\n"
     ]
    }
   ],
   "source": [
    "accr = model.evaluate(X_test,y_test)\n",
    "print('Test set\\n  Loss: {:0.3f}\\n  Accuracy: {:0.3f}'.format(accr[0],accr[1]))"
   ]
  },
  {
   "cell_type": "markdown",
   "metadata": {},
   "source": [
    "# Results and Conclusion:"
   ]
  },
  {
   "cell_type": "markdown",
   "metadata": {},
   "source": [
    "- Accuracy achieved is 0.873 with loss of 0.381.\n",
    "- Further Developements:\n",
    " - Model can be developed by increasing number of epochs, as we can see above that accuracy is increasing.\n",
    " - Developing network architecture will gives best results.\n",
    " - Callbacks can be used to stop training after reaching certain threshold.\n",
    " - Creating pipelines and using modeling networks on our dataset. Moving forward we can create time series model by given timestamps. So then we can predict reach count of auidence.\n",
    "- Further Results: \n",
    " - Recommendations to users on event content.\n",
    " - Arrangements or adjustments of jobs(servers) can be made by predicting or estimating reach count.\n",
    " - From time series forecasting we can see trends and seasonality of events. For example in this dataset one event hosted in 2015 had more up_votes. The interesting observation: It was friday (weekend) and Evening hours. "
   ]
  },
  {
   "cell_type": "markdown",
   "metadata": {},
   "source": [
    "## Thank you\n",
    "- Pradeep Medagiri, medagiri.pradeep@gmail.com\n"
   ]
  },
  {
   "cell_type": "code",
   "execution_count": null,
   "metadata": {},
   "outputs": [],
   "source": []
  }
 ],
 "metadata": {
  "kernelspec": {
   "display_name": "Python 3",
   "language": "python",
   "name": "python3"
  },
  "language_info": {
   "codemirror_mode": {
    "name": "ipython",
    "version": 3
   },
   "file_extension": ".py",
   "mimetype": "text/x-python",
   "name": "python",
   "nbconvert_exporter": "python",
   "pygments_lexer": "ipython3",
   "version": "3.7.9"
  }
 },
 "nbformat": 4,
 "nbformat_minor": 4
}
